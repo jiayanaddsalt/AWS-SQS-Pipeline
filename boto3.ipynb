{
 "cells": [
  {
   "cell_type": "code",
   "execution_count": 1,
   "metadata": {},
   "outputs": [],
   "source": [
    "import boto3\n",
    "import time\n",
    "import json"
   ]
  },
  {
   "cell_type": "code",
   "execution_count": 12,
   "metadata": {},
   "outputs": [],
   "source": [
    "sqs = boto3.client('sqs')\n",
    "lambda_client = boto3.client('lambda')\n",
    "iam_client = boto3.client('iam')\n",
    "role = iam_client.get_role(RoleName='LabRole')\n",
    "dynamodb = boto3.resource('dynamodb')\n",
    "s3_resource = boto3.resource('s3')\n",
    "s3_client = boto3.client('s3')\n",
    "dynamo_client = boto3.client('dynamodb')"
   ]
  },
  {
   "cell_type": "code",
   "execution_count": 4,
   "metadata": {},
   "outputs": [
    {
     "name": "stdout",
     "output_type": "stream",
     "text": [
      "updating: process_survey.py (deflated 65%)\n"
     ]
    }
   ],
   "source": [
    "# Create a zip file containing my Lambda function process_survey\n",
    "# updated the code to process sqs info\n",
    "! zip -r process_survey.zip process_survey.py"
   ]
  },
  {
   "cell_type": "code",
   "execution_count": 5,
   "metadata": {},
   "outputs": [],
   "source": [
    "# Access our class IAM role, which allows Lambda\n",
    "# to interact with other AWS resources\n",
    "aws_lambda = boto3.client('lambda')\n",
    "iam_client = boto3.client('iam')\n",
    "role = iam_client.get_role(RoleName='LabRole')\n",
    "\n",
    "with open('process_survey.zip', 'rb') as f:\n",
    "    lambda_zip = f.read()\n",
    "\n",
    "try:\n",
    "    # If function hasn't yet been created, create it\n",
    "    response = aws_lambda.create_function(\n",
    "        FunctionName='process_survey',\n",
    "        Runtime='python3.9',\n",
    "        Role=role['Role']['Arn'],\n",
    "        # Should be in the format of file-name.function-name\n",
    "        Handler='process_survey.process_survey',    \n",
    "        Code=dict(ZipFile=lambda_zip),\n",
    "        Timeout=300\n",
    "    )\n",
    "\n",
    "except aws_lambda.exceptions.ResourceConflictException:\n",
    "    # If function already exists, update it based on zip\n",
    "    # file contents\n",
    "    response = aws_lambda.update_function_code(\n",
    "        FunctionName='process_survey',\n",
    "        ZipFile=lambda_zip,\n",
    "        Publish=True\n",
    "        )"
   ]
  },
  {
   "attachments": {},
   "cell_type": "markdown",
   "metadata": {},
   "source": [
    "## Q1a: Write a Python function `send_survey`"
   ]
  },
  {
   "cell_type": "code",
   "execution_count": 6,
   "metadata": {},
   "outputs": [],
   "source": [
    "def send_survey(survey_path, sqs_url):\n",
    "    '''\n",
    "    Input: survey_path (str): path to JSON survey data\n",
    "        (e.g. `./survey.json')\n",
    "        sqs_url (str): URL for SQS queue\n",
    "    Output: StatusCode (int): indicating whether the survey\n",
    "            was successfully sent into the SQS queue (200) or not (400)\n",
    "    '''\n",
    "    \n",
    "    # Load survey data from file\n",
    "    with open(survey_path, 'r') as f:\n",
    "        survey_data = json.load(f)\n",
    "        print(survey_data)\n",
    "        \n",
    "    response = sqs.send_message(QueueUrl=sqs_url,\n",
    "                                MessageBody=json.dumps(survey_data))\n",
    "\n",
    "    # Return status code based on response from SQS\n",
    "    if response['ResponseMetadata']['HTTPStatusCode'] == 200:\n",
    "        return 200\n",
    "    else:\n",
    "        return 400"
   ]
  },
  {
   "attachments": {},
   "cell_type": "markdown",
   "metadata": {},
   "source": [
    "## Q1b: Create an SQS queue and configure it to act as a trigger"
   ]
  },
  {
   "attachments": {},
   "cell_type": "markdown",
   "metadata": {},
   "source": [
    "In the overall structure, the mobile device sends survey data to the send_survey function, which converts the data into a string representation and sends it to the SQS queue. The SQS queue then triggers the Lambda function to process the data and write it to storage."
   ]
  },
  {
   "cell_type": "code",
   "execution_count": 7,
   "metadata": {},
   "outputs": [
    {
     "name": "stdout",
     "output_type": "stream",
     "text": [
      "https://sqs.us-east-1.amazonaws.com/364770543372/a6\n"
     ]
    },
    {
     "data": {
      "text/plain": [
       "'arn:aws:sqs:us-east-1:364770543372:a6'"
      ]
     },
     "execution_count": 7,
     "metadata": {},
     "output_type": "execute_result"
    }
   ],
   "source": [
    "# Create SQS Queue\n",
    "try:\n",
    "    queue_url = sqs.create_queue(QueueName='a6')['QueueUrl']\n",
    "except sqs.exceptions.QueueNameExists:\n",
    "    queue_url = [url\n",
    "                 for url in sqs.list_queues()['QueueUrls']\n",
    "                 if 'a6' in url][0]\n",
    "print(queue_url)\n",
    "\n",
    "sqs_info = sqs.get_queue_attributes(QueueUrl=queue_url,\n",
    "                                    AttributeNames=['QueueArn'])\n",
    "sqs_arn = sqs_info['Attributes']['QueueArn']\n",
    "sqs_arn"
   ]
  },
  {
   "cell_type": "code",
   "execution_count": 8,
   "metadata": {},
   "outputs": [
    {
     "name": "stdout",
     "output_type": "stream",
     "text": [
      "300\n"
     ]
    }
   ],
   "source": [
    "# get the current attributes of the queue\n",
    "sqs_info = sqs.get_queue_attributes(\n",
    "    QueueUrl=queue_url,\n",
    "    AttributeNames=['VisibilityTimeout']\n",
    ")\n",
    "visibility_timeout = int(sqs_info['Attributes']['VisibilityTimeout'])\n",
    "print(visibility_timeout)\n",
    "\n",
    "# increase the visibility timeout to 300 seconds\n",
    "if visibility_timeout < 300:\n",
    "    sqs.set_queue_attributes(\n",
    "        QueueUrl=queue_url,\n",
    "        Attributes={'VisibilityTimeout': '300'}\n",
    "    )"
   ]
  },
  {
   "cell_type": "code",
   "execution_count": 14,
   "metadata": {},
   "outputs": [
    {
     "data": {
      "text/plain": [
       "'arn:aws:lambda:us-east-1:364770543372:function:process_survey'"
      ]
     },
     "execution_count": 14,
     "metadata": {},
     "output_type": "execute_result"
    }
   ],
   "source": [
    "# get the ARN of the Lambda function process_survey\n",
    "# that I wrote in Assignment 5\n",
    "lambda_function_name = 'process_survey'\n",
    "\n",
    "lambda_function = lambda_client.get_function(FunctionName=lambda_function_name)\n",
    "lambda_function_arn = lambda_function['Configuration']['FunctionArn']\n",
    "lambda_function_arn "
   ]
  },
  {
   "cell_type": "code",
   "execution_count": 15,
   "metadata": {},
   "outputs": [],
   "source": [
    "# create an event source mapping to configure the SQS queue \n",
    "# as a trigger for the Lambda function\n",
    "try:\n",
    "    response = lambda_client.create_event_source_mapping(\n",
    "        EventSourceArn=sqs_arn,\n",
    "        FunctionName='process_survey',\n",
    "        Enabled=True,\n",
    "        BatchSize=10\n",
    "    )\n",
    "except lambda_client.exceptions.ResourceConflictException:\n",
    "    es_id = lambda_client.list_event_source_mappings(\n",
    "        EventSourceArn=sqs_arn,\n",
    "        FunctionName='process_survey'\n",
    "    )['EventSourceMappings'][0]['UUID']\n",
    "    \n",
    "    response = lambda_client.update_event_source_mapping(\n",
    "        UUID=es_id,\n",
    "        FunctionName='process_survey',\n",
    "        Enabled=True,\n",
    "        BatchSize=10\n",
    "    )"
   ]
  },
  {
   "attachments": {},
   "cell_type": "markdown",
   "metadata": {},
   "source": [
    "Test my full survey submission pipeline using the example JSON files under `q1-test-json`"
   ]
  },
  {
   "cell_type": "code",
   "execution_count": 16,
   "metadata": {},
   "outputs": [
    {
     "name": "stdout",
     "output_type": "stream",
     "text": [
      "Bucket jyassignment5 exists\n"
     ]
    }
   ],
   "source": [
    "# Check if the s3 bucket structure still in place\n",
    "bucket_name = 'jyassignment5'\n",
    "\n",
    "try:\n",
    "    s3_client.head_bucket(Bucket=bucket_name)\n",
    "    print(f'Bucket {bucket_name} exists')\n",
    "except s3_client.exceptions.NoSuchBucket:\n",
    "    print(f'Bucket {bucket_name} does not exist')"
   ]
  },
  {
   "cell_type": "code",
   "execution_count": 17,
   "metadata": {},
   "outputs": [
    {
     "name": "stdout",
     "output_type": "stream",
     "text": [
      "0\n",
      "2023-04-28 19:26:20.006000-05:00\n"
     ]
    }
   ],
   "source": [
    "# Recreate a DynamoDB table used in process_survey\n",
    "table_name = 'survey_results'\n",
    "\n",
    "try:\n",
    "    table = dynamodb.create_table(\n",
    "        TableName=table_name,\n",
    "        KeySchema=[\n",
    "            {\n",
    "                'AttributeName': 'user_id',\n",
    "                'KeyType': 'HASH'\n",
    "            }\n",
    "        ],\n",
    "        AttributeDefinitions=[\n",
    "            {\n",
    "                'AttributeName': 'user_id',\n",
    "                'AttributeType': 'S'\n",
    "            }\n",
    "        ],\n",
    "        ProvisionedThroughput={\n",
    "            'ReadCapacityUnits': 1,\n",
    "            'WriteCapacityUnits': 1\n",
    "        }\n",
    "    )\n",
    "\n",
    "except dynamo_client.exceptions.ResourceInUseException:\n",
    "    table = dynamodb.Table(table_name)\n",
    "    \n",
    "# Wait until AWS confirms that table exists before moving on\n",
    "table.meta.client.get_waiter('table_exists').wait(TableName=table_name)\n",
    "\n",
    "# get data about table (should currently be no items in table)\n",
    "print(table.item_count)\n",
    "print(table.creation_date_time)"
   ]
  },
  {
   "attachments": {},
   "cell_type": "markdown",
   "metadata": {},
   "source": [
    "## Test the structure"
   ]
  },
  {
   "cell_type": "code",
   "execution_count": 18,
   "metadata": {},
   "outputs": [
    {
     "name": "stdout",
     "output_type": "stream",
     "text": [
      "q1-test-json/test1.json\n",
      "{'user_id': '0001', 'timestamp': '092821120000', 'time_elapsed': 5, 'q1': 5, 'q2': 3, 'q3': 2, 'q4': 2, 'q5': 4, 'freetext': 'I had a very bad day today...'}\n",
      "Invocation 1 status code: 200\n",
      "q1-test-json/test2.json\n",
      "{'user_id': '0001', 'timestamp': '092821120001', 'time_elapsed': 2, 'q1': 5, 'q2': 3, 'q3': 2, 'q4': 2, 'q5': 4, 'freetext': 'I had a very bad day today...'}\n",
      "Invocation 2 status code: 200\n",
      "q1-test-json/test3.json\n",
      "{'user_id': '0001', 'timestamp': '092821120100', 'time_elapsed': 5, 'q1': 5, 'q2': 3, 'q3': 2, 'q4': 2, 'q5': 4, 'freetext': ''}\n",
      "Invocation 3 status code: 200\n",
      "q1-test-json/test4.json\n",
      "{'user_id': '0002', 'timestamp': '092821120000', 'time_elapsed': 5, 'q1': 4, 'q2': 1, 'q3': 1, 'q4': 1, 'q5': 3, 'freetext': \"I'm having a great day!\"}\n",
      "Invocation 4 status code: 200\n",
      "q1-test-json/test5.json\n",
      "{'user_id': '0003', 'timestamp': '092821120000', 'time_elapsed': 1, 'q1': 1, 'q2': 1, 'q3': 1, 'q4': 1, 'q5': 1, 'freetext': ''}\n",
      "Invocation 5 status code: 200\n",
      "q1-test-json/test6.json\n",
      "{'user_id': '0003', 'timestamp': '092821120001', 'time_elapsed': 5, 'q1': 1, 'q2': 3, 'q3': 3, 'q4': 1, 'q5': 4, 'freetext': 'It was a beautiful, sunny day today.'}\n",
      "Invocation 6 status code: 200\n",
      "q1-test-json/test7.json\n",
      "{'user_id': '0004', 'timestamp': '092821120002', 'time_elapsed': 8, 'q1': 1, 'q2': 1, 'q3': 1, 'q4': 1, 'q5': 1, 'freetext': 'I had a very bad day today...'}\n",
      "Invocation 7 status code: 200\n",
      "q1-test-json/test8.json\n",
      "{'user_id': '0001', 'timestamp': '092921120000', 'time_elapsed': 5, 'q1': 1, 'q2': 3, 'q3': 2, 'q4': 2, 'q5': 5, 'freetext': 'Not looking forward to going to work today'}\n",
      "Invocation 8 status code: 200\n",
      "q1-test-json/test9.json\n",
      "{'user_id': '0005', 'timestamp': '092821122000', 'time_elapsed': 5, 'q1': 3, 'q2': 3, 'q3': 3, 'q4': 3, 'q5': 3, 'freetext': \"I'm feeling okay, but not spectacular\"}\n",
      "Invocation 9 status code: 200\n",
      "q1-test-json/test10.json\n",
      "{'user_id': '0001', 'timestamp': '093021120300', 'time_elapsed': 5, 'q1': 1, 'q2': 1, 'q3': 2, 'q4': 2, 'q5': 2, 'freetext': \"I lost my car keys this afternoon at lunch, so I'm more stressed than normal\"}\n",
      "Invocation 10 status code: 200\n"
     ]
    }
   ],
   "source": [
    "# Loop over all example JSON files and send survey data to SQS queue\n",
    "for i in range(1, 11):\n",
    "    survey_path = f'q1-test-json/test{i}.json'\n",
    "    print(survey_path)\n",
    "    response = send_survey(survey_path, queue_url)\n",
    "    print(f\"Invocation {i} status code: {response}\")\n",
    "\n",
    "# pausing execution for 10 seconds in between Lambda invocations\n",
    "time.sleep(10)"
   ]
  },
  {
   "cell_type": "code",
   "execution_count": 19,
   "metadata": {},
   "outputs": [
    {
     "data": {
      "text/plain": [
       "['0001092821120000.json',\n",
       " '0001092921120000.json',\n",
       " '0001093021120300.json',\n",
       " '0002092821120000.json',\n",
       " '0003092821120001.json',\n",
       " '0004092821120002.json',\n",
       " '0005092821122000.json']"
      ]
     },
     "execution_count": 19,
     "metadata": {},
     "output_type": "execute_result"
    }
   ],
   "source": [
    "# List the objects in the bucket\n",
    "bucket_name = 'jyassignment5'\n",
    "bucket_resource = s3_resource.Bucket(bucket_name)\n",
    "obj_lst = [obj.key for obj in bucket_resource.objects.all()]\n",
    "obj_lst"
   ]
  },
  {
   "cell_type": "code",
   "execution_count": 24,
   "metadata": {},
   "outputs": [
    {
     "data": {
      "text/plain": [
       "True"
      ]
     },
     "execution_count": 24,
     "metadata": {},
     "output_type": "execute_result"
    }
   ],
   "source": [
    "# examine whether we get the correct answer\n",
    "obj_lst == ['0001092821120000.json', '0001092921120000.json', '0001093021120300.json',\n",
    " '0002092821120000.json', '0003092821120001.json', '0004092821120002.json',\n",
    " '0005092821122000.json']"
   ]
  },
  {
   "cell_type": "code",
   "execution_count": 21,
   "metadata": {},
   "outputs": [
    {
     "name": "stdout",
     "output_type": "stream",
     "text": [
      "[{'q1': Decimal('3'), 'q2': Decimal('3'), 'user_id': '0005', 'q3': Decimal('3'), 'q4': Decimal('3'), 'q5': Decimal('3'), 'freetext': \"I'm feeling okay, but not spectacular\", 'num_completed': Decimal('1')}, {'q1': Decimal('1'), 'q2': Decimal('1'), 'user_id': '0001', 'q3': Decimal('2'), 'q4': Decimal('2'), 'q5': Decimal('2'), 'freetext': \"I lost my car keys this afternoon at lunch, so I'm more stressed than normal\", 'num_completed': Decimal('3')}, {'q1': Decimal('1'), 'q2': Decimal('1'), 'user_id': '0004', 'q3': Decimal('1'), 'q4': Decimal('1'), 'q5': Decimal('1'), 'freetext': 'I had a very bad day today...', 'num_completed': Decimal('1')}, {'q1': Decimal('1'), 'q2': Decimal('3'), 'user_id': '0003', 'q3': Decimal('3'), 'q4': Decimal('1'), 'q5': Decimal('4'), 'freetext': 'It was a beautiful, sunny day today.', 'num_completed': Decimal('1')}, {'q1': Decimal('4'), 'q2': Decimal('1'), 'user_id': '0002', 'q3': Decimal('1'), 'q4': Decimal('1'), 'q5': Decimal('3'), 'freetext': \"I'm having a great day!\", 'num_completed': Decimal('1')}]\n",
      "5\n"
     ]
    }
   ],
   "source": [
    "# query my DynamoDB table\n",
    "response = table.scan()\n",
    "items = response['Items']\n",
    "\n",
    "print(items)\n",
    "print(len(items))"
   ]
  },
  {
   "cell_type": "code",
   "execution_count": 22,
   "metadata": {},
   "outputs": [
    {
     "name": "stdout",
     "output_type": "stream",
     "text": [
      "All objects deleted from the S3 bucket.\n"
     ]
    }
   ],
   "source": [
    "# delete all of the objects in my S3 bucket \n",
    "bucket_resource.objects.all().delete()\n",
    "print('All objects deleted from the S3 bucket.')"
   ]
  },
  {
   "cell_type": "code",
   "execution_count": 23,
   "metadata": {},
   "outputs": [
    {
     "name": "stdout",
     "output_type": "stream",
     "text": [
      "Table 'survey_results' has been deleted.\n"
     ]
    }
   ],
   "source": [
    "# delete my DynamoDB table\n",
    "table.delete()\n",
    "print(f\"Table '{table_name}' has been deleted.\")"
   ]
  }
 ],
 "metadata": {
  "kernelspec": {
   "display_name": "macs30112",
   "language": "python",
   "name": "python3"
  },
  "language_info": {
   "codemirror_mode": {
    "name": "ipython",
    "version": 3
   },
   "file_extension": ".py",
   "mimetype": "text/x-python",
   "name": "python",
   "nbconvert_exporter": "python",
   "pygments_lexer": "ipython3",
   "version": "3.9.15"
  },
  "orig_nbformat": 4
 },
 "nbformat": 4,
 "nbformat_minor": 2
}
